{
 "cells": [
  {
   "cell_type": "code",
   "execution_count": 36,
   "metadata": {},
   "outputs": [],
   "source": [
    "import requests\n",
    "import time\n"
   ]
  },
  {
   "cell_type": "code",
   "execution_count": 51,
   "metadata": {},
   "outputs": [],
   "source": [
    "bot_token='5271799390:AAF0oZbOI7-2AsHewIHp18MCaGbaeGQzLv0' \n",
    "chat_id='688283098' "
   ]
  },
  {
   "cell_type": "code",
   "execution_count": null,
   "metadata": {},
   "outputs": [],
   "source": []
  },
  {
   "cell_type": "code",
   "execution_count": 38,
   "metadata": {},
   "outputs": [],
   "source": [
    "telegram_delay=8\n",
    "\n",
    "def getTPSLfrom_telegram():\n",
    "    strr='https://api.telegram.org/bot'+bot_token+'/getUpdates'\n",
    "    response = requests.get(strr)\n",
    "    rs=response.json()\n",
    "    rs2=rs['result'][-1]\n",
    "    rs3=rs2['message']\n",
    "    textt=rs3['text']\n",
    "    datet=rs3['date']\n",
    "\n",
    "    if(time.time()-datet)<telegram_delay:\n",
    "        if 'quit' in textt:\n",
    "            quit()\n",
    "        if 'exit' in textt:\n",
    "            exit()\n",
    "        if 'hello' in textt:\n",
    "            telegram_bot_sendtext('Hello. How are you?')\n",
    "\n"
   ]
  },
  {
   "cell_type": "code",
   "execution_count": 49,
   "metadata": {},
   "outputs": [],
   "source": [
    "\n",
    "def telegram_bot_sendtext(bot_message):\n",
    "    bot_token2 = bot_token\n",
    "    bot_chatID = chat_id\n",
    "    send_text = 'https://api.telegram.org/bot' + bot_token2 + '/sendMessage?chat_id=' + bot_chatID + '&parse_mode=Markdown&text=' + bot_message\n",
    "    response = requests.get(send_text)\n",
    "    return response.json()\n",
    "\n",
    "\n",
    "\n"
   ]
  },
  {
   "cell_type": "code",
   "execution_count": null,
   "metadata": {},
   "outputs": [],
   "source": [
    "starttime=time.time()\n",
    "timeout = time.time() + 60*60*12  # 60 seconds times 60 meaning the script will run for 1 hr\n",
    "counterr=1\n",
    "\n",
    "while time.time() <= timeout:\n",
    "    try:\n",
    "        print(\"passthrough at \"+time.strftime('%Y-%m-%d %H:%M:%S', time.localtime(time.time())))\n",
    "        getTPSLfrom_telegram()\n",
    "        time.sleep(10 - ((time.time() - starttime) % 10.0)) # 1 minute interval between each new execution\n",
    "    except KeyboardInterrupt:\n",
    "        print('\\n\\nKeyboard exception received. Exiting.')\n",
    "        exit()\n",
    "        "
   ]
  },
  {
   "cell_type": "code",
   "execution_count": null,
   "metadata": {},
   "outputs": [],
   "source": []
  }
 ],
 "metadata": {
  "kernelspec": {
   "display_name": "Python 3",
   "language": "python",
   "name": "python3"
  },
  "language_info": {
   "codemirror_mode": {
    "name": "ipython",
    "version": 3
   },
   "file_extension": ".py",
   "mimetype": "text/x-python",
   "name": "python",
   "nbconvert_exporter": "python",
   "pygments_lexer": "ipython3",
   "version": "3.8.3"
  }
 },
 "nbformat": 4,
 "nbformat_minor": 4
}
