{
 "cells": [
  {
   "cell_type": "code",
   "execution_count": 1,
   "metadata": {},
   "outputs": [],
   "source": [
    "import requests\n",
    "import numpy as np\n",
    "import pandas as pd\n",
    "\n",
    "from binance import Client, ThreadedWebsocketManager, ThreadedDepthCacheManager\n",
    "from futures_sign import send_signed_request, send_public_request\n",
    "from cred import KEY, SECRET"
   ]
  },
  {
   "cell_type": "code",
   "execution_count": 2,
   "metadata": {},
   "outputs": [],
   "source": [
    "symbol='ETHUSDT'\n",
    "client = Client(KEY, SECRET)"
   ]
  },
  {
   "cell_type": "code",
   "execution_count": 3,
   "metadata": {},
   "outputs": [],
   "source": [
    "# Get last 500 kandels 5 minutes for Symbol\n",
    "\n",
    "def get_futures_klines(symbol,limit=500):\n",
    "    x = requests.get('https://binance.com/fapi/v1/klines?symbol='+symbol+'&limit='+str(limit)+'&interval=5m')\n",
    "    df=pd.DataFrame(x.json())\n",
    "    df.columns=['open_time','open','high','low','close','volume','close_time','d1','d2','d3','d4','d5']\n",
    "    df=df.drop(['d1','d2','d3','d4','d5'],axis=1)\n",
    "    df['open']=df['open'].astype(float)\n",
    "    df['high']=df['high'].astype(float)\n",
    "    df['low']=df['low'].astype(float)\n",
    "    df['close']=df['close'].astype(float)\n",
    "    df['volume']=df['volume'].astype(float)\n",
    "    return(df)"
   ]
  },
  {
   "cell_type": "code",
   "execution_count": 4,
   "metadata": {},
   "outputs": [],
   "source": [
    "# Open position for Sybol with \n",
    "\n",
    "def open_position(symbol,s_l,quantity_l):\n",
    "    sprice=get_symbol_price(symbol)\n",
    "\n",
    "    if(s_l=='long'):\n",
    "        close_price=str(round(sprice*(1+0.01),2))\n",
    "        params = {\n",
    "            \"batchOrders\": [\n",
    "                {\n",
    "                    \"symbol\":symbol,\n",
    "                    \"side\": \"BUY\",\n",
    "                    \"type\": \"LIMIT\",\n",
    "                    \"quantity\": str(quantity_l),\n",
    "                    \"timeInForce\":\"GTC\",\n",
    "                    \"price\": close_price        \n",
    "\n",
    "                }\n",
    "            ]\n",
    "        }\n",
    "        responce = send_signed_request('POST', '/fapi/v1/batchOrders', params)\n",
    "       \n",
    "    if(s_l=='short'):\n",
    "        close_price=str(round(sprice*(1-0.01),2))\n",
    "        params = {\n",
    "            \"batchOrders\": [\n",
    "                {\n",
    "                    \"symbol\":symbol,\n",
    "                    \"side\": \"SELL\",\n",
    "                    \"type\": \"LIMIT\",\n",
    "                    \"quantity\": str(quantity_l),\n",
    "                    \"timeInForce\":\"GTC\",\n",
    "                    \"price\": close_price\n",
    "                }\n",
    "           ]\n",
    "        }\n",
    "        responce = send_signed_request('POST', '/fapi/v1/batchOrders', params)\n",
    "        "
   ]
  },
  {
   "cell_type": "code",
   "execution_count": 5,
   "metadata": {},
   "outputs": [],
   "source": [
    "# Close position for symbol with quantity\n",
    "\n",
    "def close_position(symbol,s_l,quantity_l):\n",
    "    sprice=get_symbol_price(symbol)\n",
    "\n",
    "    if(s_l=='long'):\n",
    "        close_price=str(round(sprice*(1-0.01),2))\n",
    "        params = {\n",
    "                    \"symbol\":symbol,\n",
    "                    \"side\": \"SELL\",\n",
    "                    \"type\": \"LIMIT\",\n",
    "                    \"quantity\": str(quantity_l),\n",
    "                    \"timeInForce\":\"GTC\",\n",
    "                    \"price\": close_price\n",
    "                }\n",
    "        responce = send_signed_request('POST', '/fapi/v1/order', params)\n",
    "    if(s_l=='short'):\n",
    "        close_price=str(round(sprice*(1+0.01),2))\n",
    "        params = {\n",
    "                \n",
    "                    \"symbol\":symbol,\n",
    "                    \"side\": \"BUY\",\n",
    "                    \"type\": \"LIMIT\",\n",
    "                    \"quantity\": str(quantity_l),\n",
    "                    \"timeInForce\":\"GTC\",\n",
    "                    \"price\": close_price        \n",
    "                }\n",
    "        responce = send_signed_request('POST', '/fapi/v1/order', params)\n",
    "\n"
   ]
  },
  {
   "cell_type": "code",
   "execution_count": 6,
   "metadata": {},
   "outputs": [],
   "source": [
    "# Find all opened positions\n",
    "\n",
    "def get_opened_positions(symbol):\n",
    "    status = client.futures_account()\n",
    "    positions=pd.DataFrame(status['positions'])\n",
    "    a = positions[positions['symbol']==symbol]['positionAmt'].astype(float).tolist()[0]\n",
    "    leverage = int(positions[positions['symbol']==symbol]['leverage'])\n",
    "    entryprice = positions[positions['symbol']==symbol]['entryPrice']\n",
    "    profit = float(status['totalUnrealizedProfit'])\n",
    "    balance = round(float(status['totalWalletBalance']),2)\n",
    "    if a>0:\n",
    "        pos = \"long\"\n",
    "    elif a<0:\n",
    "        pos = \"short\"\n",
    "    else: \n",
    "        pos = \"\"\n",
    "    return([pos,a,profit,leverage,balance,round(float(entryprice),3),0])\n",
    "\n",
    "\n"
   ]
  },
  {
   "cell_type": "code",
   "execution_count": 7,
   "metadata": {},
   "outputs": [],
   "source": [
    "# Close all orders \n",
    "\n",
    "def check_and_close_orders(symbol):\n",
    "    global isStop \n",
    "    a=client.futures_get_open_orders(symbol=symbol)\n",
    "    if len(a)>0:\n",
    "        isStop = False\n",
    "        client.futures_cancel_all_open_orders(symbol=symbol)"
   ]
  },
  {
   "cell_type": "code",
   "execution_count": 8,
   "metadata": {},
   "outputs": [],
   "source": [
    "def get_symbol_price(symbol):\n",
    "    prices = client.get_all_tickers()\n",
    "    df=pd.DataFrame(prices)\n",
    "    return float(df[ df['symbol']==symbol]['price'])"
   ]
  },
  {
   "cell_type": "code",
   "execution_count": 13,
   "metadata": {},
   "outputs": [],
   "source": [
    "open_position(symbol,'long',0.02)"
   ]
  },
  {
   "cell_type": "code",
   "execution_count": 14,
   "metadata": {},
   "outputs": [
    {
     "data": {
      "text/plain": [
       "['', 0.0, 0.0, 20, 0.0, 0.0, 0]"
      ]
     },
     "execution_count": 14,
     "metadata": {},
     "output_type": "execute_result"
    }
   ],
   "source": [
    "get_opened_positions(symbol)"
   ]
  },
  {
   "cell_type": "code",
   "execution_count": 15,
   "metadata": {},
   "outputs": [],
   "source": [
    "close_position(symbol,'long',0.02)"
   ]
  },
  {
   "cell_type": "code",
   "execution_count": 16,
   "metadata": {},
   "outputs": [
    {
     "data": {
      "text/plain": [
       "['', 0.0, 0.0, 20, 0.0, 0.0, 0]"
      ]
     },
     "execution_count": 16,
     "metadata": {},
     "output_type": "execute_result"
    }
   ],
   "source": [
    "get_opened_positions(symbol)"
   ]
  },
  {
   "cell_type": "code",
   "execution_count": null,
   "metadata": {},
   "outputs": [],
   "source": []
  },
  {
   "cell_type": "code",
   "execution_count": null,
   "metadata": {},
   "outputs": [],
   "source": []
  }
 ],
 "metadata": {
  "kernelspec": {
   "display_name": "Python 3",
   "language": "python",
   "name": "python3"
  },
  "language_info": {
   "codemirror_mode": {
    "name": "ipython",
    "version": 3
   },
   "file_extension": ".py",
   "mimetype": "text/x-python",
   "name": "python",
   "nbconvert_exporter": "python",
   "pygments_lexer": "ipython3",
   "version": "3.8.3"
  }
 },
 "nbformat": 4,
 "nbformat_minor": 4
}
