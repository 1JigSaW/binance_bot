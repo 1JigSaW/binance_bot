{
 "cells": [
  {
   "cell_type": "code",
   "execution_count": 19,
   "metadata": {},
   "outputs": [],
   "source": [
    "import pandas as pd"
   ]
  },
  {
   "cell_type": "code",
   "execution_count": 20,
   "metadata": {},
   "outputs": [],
   "source": [
    "f = open(\"token.txt\", \"r\")\n",
    "apiKey = f.readline()\n",
    "f.close()"
   ]
  },
  {
   "cell_type": "code",
   "execution_count": 24,
   "metadata": {},
   "outputs": [],
   "source": [
    "interval_var = '5min'\n",
    "symbol = 'ETH'\n",
    "path = 'https://www.alphavantage.co/query?function=CRYPTO_INTRADAY&symbol=' + symbol + '&market=USD&interval=' + interval_var + '&apikey=' + apiKey + '&datatype=csv&outputsize=full'"
   ]
  },
  {
   "cell_type": "code",
   "execution_count": 25,
   "metadata": {},
   "outputs": [],
   "source": [
    "df = pd.read_csv(path)"
   ]
  },
  {
   "cell_type": "code",
   "execution_count": 29,
   "metadata": {},
   "outputs": [],
   "source": [
    "df = df[::-1].reset_index()"
   ]
  },
  {
   "cell_type": "code",
   "execution_count": 33,
   "metadata": {},
   "outputs": [],
   "source": [
    "df = df.drop(['index'], axis=1)"
   ]
  },
  {
   "cell_type": "code",
   "execution_count": 34,
   "metadata": {},
   "outputs": [
    {
     "data": {
      "text/html": [
       "<div>\n",
       "<style scoped>\n",
       "    .dataframe tbody tr th:only-of-type {\n",
       "        vertical-align: middle;\n",
       "    }\n",
       "\n",
       "    .dataframe tbody tr th {\n",
       "        vertical-align: top;\n",
       "    }\n",
       "\n",
       "    .dataframe thead th {\n",
       "        text-align: right;\n",
       "    }\n",
       "</style>\n",
       "<table border=\"1\" class=\"dataframe\">\n",
       "  <thead>\n",
       "    <tr style=\"text-align: right;\">\n",
       "      <th></th>\n",
       "      <th>timestamp</th>\n",
       "      <th>open</th>\n",
       "      <th>high</th>\n",
       "      <th>low</th>\n",
       "      <th>close</th>\n",
       "      <th>volume</th>\n",
       "    </tr>\n",
       "  </thead>\n",
       "  <tbody>\n",
       "    <tr>\n",
       "      <th>0</th>\n",
       "      <td>2022-02-17 07:10:00</td>\n",
       "      <td>3090.95</td>\n",
       "      <td>3093.05</td>\n",
       "      <td>3087.18</td>\n",
       "      <td>3088.01</td>\n",
       "      <td>836</td>\n",
       "    </tr>\n",
       "    <tr>\n",
       "      <th>1</th>\n",
       "      <td>2022-02-17 07:15:00</td>\n",
       "      <td>3088.02</td>\n",
       "      <td>3090.21</td>\n",
       "      <td>3086.69</td>\n",
       "      <td>3087.01</td>\n",
       "      <td>543</td>\n",
       "    </tr>\n",
       "    <tr>\n",
       "      <th>2</th>\n",
       "      <td>2022-02-17 07:20:00</td>\n",
       "      <td>3087.00</td>\n",
       "      <td>3092.89</td>\n",
       "      <td>3086.06</td>\n",
       "      <td>3091.42</td>\n",
       "      <td>712</td>\n",
       "    </tr>\n",
       "    <tr>\n",
       "      <th>3</th>\n",
       "      <td>2022-02-17 07:25:00</td>\n",
       "      <td>3091.41</td>\n",
       "      <td>3091.50</td>\n",
       "      <td>3081.60</td>\n",
       "      <td>3081.72</td>\n",
       "      <td>684</td>\n",
       "    </tr>\n",
       "    <tr>\n",
       "      <th>4</th>\n",
       "      <td>2022-02-17 07:30:00</td>\n",
       "      <td>3081.74</td>\n",
       "      <td>3092.59</td>\n",
       "      <td>3080.00</td>\n",
       "      <td>3091.93</td>\n",
       "      <td>895</td>\n",
       "    </tr>\n",
       "    <tr>\n",
       "      <th>...</th>\n",
       "      <td>...</td>\n",
       "      <td>...</td>\n",
       "      <td>...</td>\n",
       "      <td>...</td>\n",
       "      <td>...</td>\n",
       "      <td>...</td>\n",
       "    </tr>\n",
       "    <tr>\n",
       "      <th>995</th>\n",
       "      <td>2022-02-20 18:05:00</td>\n",
       "      <td>2646.14</td>\n",
       "      <td>2648.34</td>\n",
       "      <td>2643.78</td>\n",
       "      <td>2645.64</td>\n",
       "      <td>479</td>\n",
       "    </tr>\n",
       "    <tr>\n",
       "      <th>996</th>\n",
       "      <td>2022-02-20 18:10:00</td>\n",
       "      <td>2645.63</td>\n",
       "      <td>2660.65</td>\n",
       "      <td>2639.87</td>\n",
       "      <td>2659.22</td>\n",
       "      <td>1702</td>\n",
       "    </tr>\n",
       "    <tr>\n",
       "      <th>997</th>\n",
       "      <td>2022-02-20 18:15:00</td>\n",
       "      <td>2659.22</td>\n",
       "      <td>2660.02</td>\n",
       "      <td>2654.73</td>\n",
       "      <td>2655.25</td>\n",
       "      <td>588</td>\n",
       "    </tr>\n",
       "    <tr>\n",
       "      <th>998</th>\n",
       "      <td>2022-02-20 18:20:00</td>\n",
       "      <td>2655.26</td>\n",
       "      <td>2657.54</td>\n",
       "      <td>2649.30</td>\n",
       "      <td>2652.48</td>\n",
       "      <td>572</td>\n",
       "    </tr>\n",
       "    <tr>\n",
       "      <th>999</th>\n",
       "      <td>2022-02-20 18:25:00</td>\n",
       "      <td>2652.48</td>\n",
       "      <td>2652.77</td>\n",
       "      <td>2648.01</td>\n",
       "      <td>2651.61</td>\n",
       "      <td>245</td>\n",
       "    </tr>\n",
       "  </tbody>\n",
       "</table>\n",
       "<p>1000 rows × 6 columns</p>\n",
       "</div>"
      ],
      "text/plain": [
       "               timestamp     open     high      low    close  volume\n",
       "0    2022-02-17 07:10:00  3090.95  3093.05  3087.18  3088.01     836\n",
       "1    2022-02-17 07:15:00  3088.02  3090.21  3086.69  3087.01     543\n",
       "2    2022-02-17 07:20:00  3087.00  3092.89  3086.06  3091.42     712\n",
       "3    2022-02-17 07:25:00  3091.41  3091.50  3081.60  3081.72     684\n",
       "4    2022-02-17 07:30:00  3081.74  3092.59  3080.00  3091.93     895\n",
       "..                   ...      ...      ...      ...      ...     ...\n",
       "995  2022-02-20 18:05:00  2646.14  2648.34  2643.78  2645.64     479\n",
       "996  2022-02-20 18:10:00  2645.63  2660.65  2639.87  2659.22    1702\n",
       "997  2022-02-20 18:15:00  2659.22  2660.02  2654.73  2655.25     588\n",
       "998  2022-02-20 18:20:00  2655.26  2657.54  2649.30  2652.48     572\n",
       "999  2022-02-20 18:25:00  2652.48  2652.77  2648.01  2651.61     245\n",
       "\n",
       "[1000 rows x 6 columns]"
      ]
     },
     "execution_count": 34,
     "metadata": {},
     "output_type": "execute_result"
    }
   ],
   "source": [
    "df "
   ]
  },
  {
   "cell_type": "code",
   "execution_count": null,
   "metadata": {},
   "outputs": [],
   "source": []
  }
 ],
 "metadata": {
  "kernelspec": {
   "display_name": "Python 3",
   "language": "python",
   "name": "python3"
  },
  "language_info": {
   "codemirror_mode": {
    "name": "ipython",
    "version": 3
   },
   "file_extension": ".py",
   "mimetype": "text/x-python",
   "name": "python",
   "nbconvert_exporter": "python",
   "pygments_lexer": "ipython3",
   "version": "3.8.3"
  }
 },
 "nbformat": 4,
 "nbformat_minor": 4
}
