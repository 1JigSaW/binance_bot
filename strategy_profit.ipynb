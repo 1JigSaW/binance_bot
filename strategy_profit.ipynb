{
 "cells": [
  {
   "cell_type": "code",
   "execution_count": 77,
   "metadata": {},
   "outputs": [],
   "source": [
    "import numpy as np\n",
    "import pandas as pd\n",
    "import statsmodels.api as sm\n",
    "import matplotlib.pyplot as plt\n",
    "import copy"
   ]
  },
  {
   "cell_type": "code",
   "execution_count": 78,
   "metadata": {},
   "outputs": [],
   "source": [
    "# Наклон ценовой линии\n",
    "def indSlope(series, n):\n",
    "    array_sl = [j*0 for j in range(n-1)]\n",
    "    for j in range(n, len(series) + 1):\n",
    "        y = series[j-n:j]\n",
    "        x = np.array(range(n))\n",
    "        x_sc = (x - x.min())/(x.max() - x.min())\n",
    "        y_sc = (y - y.min())/(y.max() - y.min())\n",
    "        x_sc = sm.add_constant(x_sc)\n",
    "        model = sm.OLS(y_sc, x_sc)\n",
    "        results = model.fit()\n",
    "        array_sl.append(results.params[-1])\n",
    "    slope_angle = (np.rad2deg(np.arctan(np.array(array_sl))))\n",
    "    return np.array(slope_angle)"
   ]
  },
  {
   "cell_type": "code",
   "execution_count": 79,
   "metadata": {},
   "outputs": [],
   "source": [
    "# Индикатор истинного диапазона и среднего истинного диапазона\n",
    "def indATR(source_DF, n):\n",
    "    df = source_DF.copy()\n",
    "    df['H-L'] = abs(df['high'] - df['low'])\n",
    "    df['H-PC'] = abs(df['high'] - df['close'].shift(1))\n",
    "    df['L-PC'] = abs(df['low'] - df['close'].shift(1))\n",
    "    df['TR'] = df[['H-L', 'H-PC', 'L-PC']].max(axis=1, skipna=False)\n",
    "    df['ATR'] = df['TR'].rolling(n).mean()\n",
    "    df_temp = df.drop(['H-L', 'H-PC', 'L-PC'], axis=1)\n",
    "    return df_temp"
   ]
  },
  {
   "cell_type": "code",
   "execution_count": 80,
   "metadata": {},
   "outputs": [],
   "source": [
    "def PrepareDF(DF):\n",
    "    ohlc = DF.iloc[:, [0,1,2,3,4,5]]\n",
    "    ohlc.columns = [\"date\", \"open\", \"high\", \"low\", \"close\", \"volume\"]\n",
    "    ohlc = ohlc.set_index('date')\n",
    "    df = indATR(ohlc, 14).reset_index()\n",
    "    df['slope'] = indSlope(df['close'], 5)\n",
    "    df['channel_max'] = df['high'].rolling(10).max()\n",
    "    df['channel_min'] = df['low'].rolling(10).min()\n",
    "    df['position_in_channel'] = (df['close'] - df['channel_min']) / (df['channel_max'] - df['channel_min'])\n",
    "    df = df.set_index('date')\n",
    "    df = df.reset_index()\n",
    "    return(df)"
   ]
  },
  {
   "cell_type": "code",
   "execution_count": 81,
   "metadata": {},
   "outputs": [],
   "source": [
    "# Локальный минимум и локальный максимум\n",
    "def isLCC(DF, i):\n",
    "    df = DF.copy()\n",
    "    LCC = 0\n",
    "    if df['close'][i] <= df['close'][i+1] and df['close'][i] <= df['close'][i - 1] and df['close'][i + 1] <= df['close'][i - 1]:\n",
    "        # Найдено ДНО\n",
    "        LCC = i - 1\n",
    "    return LCC\n",
    "\n",
    "def isHCC(DF, i):\n",
    "    df = DF.copy()\n",
    "    HCC = 0\n",
    "    if df['close'][i] >= df['close'][i+1] and df['close'][i] >= df['close'][i-1] and df['close'][i + 1] >= df['close'][i - 1]:\n",
    "        HCC = i\n",
    "    return HCC"
   ]
  },
  {
   "cell_type": "code",
   "execution_count": 82,
   "metadata": {},
   "outputs": [],
   "source": [
    "# Верхний уровень канала и нижний уровень канала\n",
    "def getMaxMinChannel(DF, n):\n",
    "    maxx = 0\n",
    "    minn = 0\n",
    "    for i in range(0, n-1):\n",
    "        if maxx < DF['high'][len(DF) - i]:\n",
    "            maxx = DF['high'][len(DF) - i]\n",
    "        if minn > DF['high'][len(DF) - i]:\n",
    "            minn = DF['high'][len(DF) - i]\n",
    "    return(maxx, minn)"
   ]
  },
  {
   "cell_type": "code",
   "execution_count": 83,
   "metadata": {},
   "outputs": [],
   "source": [
    "f = open(\"token.txt\", \"r\")\n",
    "apiKey = f.readline()\n",
    "f.close()\n",
    "interval_var = '5min'\n",
    "symbol = 'ETH'\n",
    "path = 'https://www.alphavantage.co/query?function=CRYPTO_INTRADAY&symbol=' + symbol + '&market=USD&interval=' + interval_var + '&apikey=' + apiKey + '&datatype=csv&outputsize=full'"
   ]
  },
  {
   "cell_type": "code",
   "execution_count": 84,
   "metadata": {},
   "outputs": [],
   "source": [
    "df = pd.read_csv(path)"
   ]
  },
  {
   "cell_type": "code",
   "execution_count": 85,
   "metadata": {},
   "outputs": [],
   "source": [
    "df = df[::-1]"
   ]
  },
  {
   "cell_type": "code",
   "execution_count": 86,
   "metadata": {},
   "outputs": [],
   "source": [
    "prepared_df = PrepareDF(df)"
   ]
  },
  {
   "cell_type": "code",
   "execution_count": 87,
   "metadata": {},
   "outputs": [],
   "source": [
    "lend=len(prepared_df)\n",
    "\n",
    "prepared_df['hcc']=[None]*lend\n",
    "prepared_df['lcc']=[None]*lend\n",
    "\n",
    "for i in range(4,lend-1):\n",
    "    if isHCC(prepared_df,i)>0:\n",
    "        prepared_df.at[i,'hcc']=prepared_df['close'][i]\n",
    "    if isLCC(prepared_df,i)>0:\n",
    "        prepared_df.at[i,'lcc']=prepared_df['close'][i]\n"
   ]
  },
  {
   "cell_type": "code",
   "execution_count": 104,
   "metadata": {},
   "outputs": [],
   "source": [
    "position=0\n",
    "deal=0\n",
    "eth_proffit_array=[[20,1],[40,1],[60,2],[80,2],[100,2],[150,1],[200,1],[200,0]]\n",
    "\n",
    "prepared_df['deal_o']=[None]*lend\n",
    "prepared_df['deal_c']=[None]*lend\n",
    "prepared_df['earn']=[None]*lend\n",
    "\n",
    "for i in range(4,lend-1):\n",
    "    prepared_df.at[i,'earn']=deal\n",
    "    \n",
    "    if position>0:\n",
    "    # long\n",
    "        if(prepared_df['close'][i]<stop_price):\n",
    "            #stop loss\n",
    "            deal=deal-(open_price-prepared_df['close'][i])\n",
    "            position=0\n",
    "            # print('stop loss')\n",
    "            prepared_df.at[i,'deal_c']=prepared_df['close'][i]\n",
    "            \n",
    "        else:\n",
    "            # print(i, position, profit_array)\n",
    "            temp_arr=copy.copy(proffit_array)\n",
    "            for j in range(0,len(temp_arr)-1):\n",
    "                delta=temp_arr[j][0]\n",
    "                contracts=temp_arr[j][1]\n",
    "                if(prepared_df['close'][i]>(open_price+delta)):\n",
    "                    prepared_df.at[i,'deal_c']=prepared_df['close'][i]\n",
    "                    position=position-contracts\n",
    "                    deal=deal+(prepared_df['close'][i]-open_price)*contracts\n",
    "                    del proffit_array[0]\n",
    "                    \n",
    "    elif position<0:\n",
    "    # short\n",
    "        if(prepared_df['close'][i]>stop_price):\n",
    "            #stop loss\n",
    "            deal=deal-(prepared_df['close'][i]-open_price)\n",
    "            position=0\n",
    "            prepared_df.at[i,'deal_c']=prepared_df['close'][i]\n",
    "        else:\n",
    "            temp_arr=copy.copy(proffit_array)\n",
    "            for j in range(0,len(temp_arr)-1):\n",
    "                delta=temp_arr[j][0]\n",
    "                contracts=temp_arr[j][1]\n",
    "                if(prepared_df['close'][i]<(open_price-delta)):\n",
    "                    # print(i, position, open_price, prepared_df['close'][i])\n",
    "                    # print(proffit_array)\n",
    "                    prepared_df.at[i,'deal_c']=prepared_df['close'][i]\n",
    "                    position=position+contracts\n",
    "                    deal=deal+(open_price-prepared_df['close'][i])*contracts\n",
    "                    del proffit_array[0]\n",
    "    else:\n",
    "        if(prepared_df['lcc'][i-1]!=None):\n",
    "            # long\n",
    "            if(prepared_df['position_in_channel'][i-1]<0.5):\n",
    "                if((prepared_df['slope'][i-1])<-5):\n",
    "                    prepared_df.at[i,'deal_o']=prepared_df['close'][i]\n",
    "                    # print(i,'open long position')\n",
    "                    proffit_array=copy.copy(eth_proffit_array)\n",
    "                    position=10\n",
    "                    open_price=prepared_df['close'][i]\n",
    "                    stop_price=prepared_df['close'][i]*0.97\n",
    "        if(prepared_df['hcc'][i-1]!=None):\n",
    "            # short\n",
    "            if(prepared_df['position_in_channel'][i-1]>0.5):\n",
    "                if((prepared_df['slope'][i-1])>5):\n",
    "                    prepared_df.at[i,'deal_o']=prepared_df['close'][i]\n",
    "                    # print(i,'open short position')\n",
    "                    proffit_array=copy.copy(eth_proffit_array)\n",
    "                    position=-10\n",
    "                    open_price=prepared_df['close'][i]\n",
    "                    stop_price=prepared_df['close'][i]*1.03\n",
    "  "
   ]
  },
  {
   "cell_type": "code",
   "execution_count": 105,
   "metadata": {},
   "outputs": [
    {
     "name": "stdout",
     "output_type": "stream",
     "text": [
      "Days:3.47  earned =  468.14 $\n"
     ]
    }
   ],
   "source": [
    "print('Days:' + str(round(lend*5/60/24, 2)), \n",
    "      ' earned = ', round(deal, 2), \"$\")"
   ]
  },
  {
   "cell_type": "code",
   "execution_count": 106,
   "metadata": {},
   "outputs": [
    {
     "data": {
      "text/plain": [
       "5.974765095145471"
      ]
     },
     "execution_count": 106,
     "metadata": {},
     "output_type": "execute_result"
    }
   ],
   "source": [
    "1741.65 * 100/(prepared_df['close'][0]*10)"
   ]
  },
  {
   "cell_type": "code",
   "execution_count": 107,
   "metadata": {},
   "outputs": [
    {
     "data": {
      "image/png": "[encoded data removed]",
      "text/plain": [
       "<Figure size 1440x720 with 3 Axes>"
      ]
     },
     "metadata": {
      "needs_background": "light"
     },
     "output_type": "display_data"
    }
   ],
   "source": [
    "aa = prepared_df[0:999]\n",
    "aa=aa.reset_index()\n",
    "\n",
    "#labels = ['close',\"deal_o\",\"deal_c\"]\n",
    "labels = ['close',\"deal_o\",\"deal_c\"]#,\"channel_max\",\"channel_min\"]\n",
    "\n",
    "labels_line = ['--',\"*-\",\"*-\",\"g-\",\"r-\"]\n",
    "\n",
    "\n",
    "j=0\n",
    "x = pd.DataFrame()\n",
    "y = pd.DataFrame()\n",
    "for i in labels:\n",
    "    x[j]=aa['index']\n",
    "    y[j]=aa[i]\n",
    "    j=j+1\n",
    "\n",
    "fig, (ax1, ax2,ax3) = plt.subplots(3, 1)\n",
    "\n",
    "fig.suptitle('Deals')\n",
    "fig.set_size_inches(20, 10)\n",
    "\n",
    "for j in range(0,len(labels)):\n",
    "    ax1.plot(x[j], y[j], labels_line[j])\n",
    "\n",
    "\n",
    "ax1.set_ylabel('Price')\n",
    "ax1.grid(True)\n",
    "\n",
    "ax2.plot(x[0], aa['earn'], 'g-') #EMA\n",
    "#ax3.plot(x[0], aa['position_in_channel'], '.-') #EMA\n",
    "\n",
    "ax2.grid(True)\n",
    "#ax3.grid(True)\n",
    "\n",
    "plt.show()"
   ]
  },
  {
   "cell_type": "code",
   "execution_count": null,
   "metadata": {},
   "outputs": [],
   "source": []
  }
 ],
 "metadata": {
  "kernelspec": {
   "display_name": "Python 3",
   "language": "python",
   "name": "python3"
  },
  "language_info": {
   "codemirror_mode": {
    "name": "ipython",
    "version": 3
   },
   "file_extension": ".py",
   "mimetype": "text/x-python",
   "name": "python",
   "nbconvert_exporter": "python",
   "pygments_lexer": "ipython3",
   "version": "3.8.3"
  }
 },
 "nbformat": 4,
 "nbformat_minor": 4
}
