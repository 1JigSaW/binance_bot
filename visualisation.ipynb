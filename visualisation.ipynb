{
 "cells": [
  {
   "cell_type": "code",
   "execution_count": 2,
   "metadata": {},
   "outputs": [],
   "source": [
    "import numpy as np\n",
    "import pandas as pd\n",
    "import statsmodels.api as sm\n",
    "import matplotlib.pyplot as plt"
   ]
  },
  {
   "cell_type": "code",
   "execution_count": 3,
   "metadata": {},
   "outputs": [],
   "source": [
    "# Наклон ценовой линии\n",
    "def indSlope(series, n):\n",
    "    array_sl = [j*0 for j in range(n-1)]\n",
    "    for j in range(n, len(series) + 1):\n",
    "        y = series[j-n:j]\n",
    "        x = np.array(range(n))\n",
    "        x_sc = (x - x.min())/(x.max() - x.min())\n",
    "        y_sc = (y - y.min())/(y.max() - y.min())\n",
    "        x_sc = sm.add_constant(x_sc)\n",
    "        model = sm.OLS(y_sc, x_sc)\n",
    "        results = model.fit()\n",
    "        array_sl.append(results.params[-1])\n",
    "    slope_angle = (np.rad2deg(np.arctan(np.array(array_sl))))\n",
    "    return np.array(slope_angle)"
   ]
  },
  {
   "cell_type": "code",
   "execution_count": 4,
   "metadata": {},
   "outputs": [],
   "source": [
    "# Индикатор истинного диапазона и среднего истинного диапазона\n",
    "def indATR(source_DF, n):\n",
    "    df = source_DF.copy()\n",
    "    df['H-L'] = abs(df['high'] - df['low'])\n",
    "    df['H-PC'] = abs(df['high'] - df['close'].shift(1))\n",
    "    df['L-PC'] = abs(df['low'] - df['close'].shift(1))\n",
    "    df['TR'] = df[['H-L', 'H-PC', 'L-PC']].max(axis=1, skipna=False)\n",
    "    df['ATR'] = df['TR'].rolling(n).mean()\n",
    "    df_temp = df.drop(['H-L', 'H-PC', 'L-PC'], axis=1)\n",
    "    return df_temp"
   ]
  },
  {
   "cell_type": "code",
   "execution_count": 5,
   "metadata": {},
   "outputs": [],
   "source": [
    "def PrepareDF(DF):\n",
    "    ohlc = DF.iloc[:, [0,1,2,3,4,5]]\n",
    "    ohlc.columns = [\"date\", \"open\", \"high\", \"low\", \"close\", \"volume\"]\n",
    "    ohlc = ohlc.set_index('date')\n",
    "    df = indATR(ohlc, 14).reset_index()\n",
    "    df['slope'] = indSlope(df['close'], 5)\n",
    "    df['channel_max'] = df['high'].rolling(10).max()\n",
    "    df['channel_min'] = df['low'].rolling(10).min()\n",
    "    df['position_in_channel'] = (df['close'] - df['channel_min']) / (df['channel_max'] - df['channel_min'])\n",
    "    df = df.set_index('date')\n",
    "    df = df.reset_index()\n",
    "    return(df)"
   ]
  },
  {
   "cell_type": "code",
   "execution_count": 6,
   "metadata": {},
   "outputs": [],
   "source": [
    "# Локальный минимум и локальный максимум\n",
    "def isLCC(DF, i):\n",
    "    df = DF.copy()\n",
    "    LCC = 0\n",
    "    if df['close'][i] <= df['close'][i+1] and df['close'][i] <= df['close'][i - 1] and df['close'][i + 1] <= df['close'][i - 1]:\n",
    "        # Найдено ДНО\n",
    "        LCC = i - 1\n",
    "    return LCC\n",
    "\n",
    "def isHCC(DF, i):\n",
    "    df = DF.copy()\n",
    "    HCC = 0\n",
    "    if df['close'][i] >= df['close'][i+1] and df['close'][i] >= df['close'][i-1] and df['close'][i + 1] >= df['close'][i - 1]:\n",
    "        HCC = i\n",
    "    return HCC"
   ]
  },
  {
   "cell_type": "code",
   "execution_count": 7,
   "metadata": {},
   "outputs": [],
   "source": [
    "# Верхний уровень канала и нижний уровень канала\n",
    "def getMaxMinChannel(DF, n):\n",
    "    maxx = 0\n",
    "    minn = 0\n",
    "    for i in range(0, n-1):\n",
    "        if maxx < DF['high'][len(DF) - i]:\n",
    "            maxx = DF['high'][len(DF) - i]\n",
    "        if minn > DF['high'][len(DF) - i]:\n",
    "            minn = DF['high'][len(DF) - i]\n",
    "    return(maxx, minn)"
   ]
  },
  {
   "cell_type": "code",
   "execution_count": 8,
   "metadata": {},
   "outputs": [],
   "source": [
    "f = open(\"token.txt\", \"r\")\n",
    "apiKey = f.readline()\n",
    "f.close()\n",
    "interval_var = '5min'\n",
    "symbol = 'SOL'\n",
    "path = 'https://www.alphavantage.co/query?function=CRYPTO_INTRADAY&symbol=' + symbol + '&market=USD&interval=' + interval_var + '&apikey=' + apiKey + '&datatype=csv&outputsize=full'"
   ]
  },
  {
   "cell_type": "code",
   "execution_count": 9,
   "metadata": {},
   "outputs": [],
   "source": [
    "df = pd.read_csv(path)"
   ]
  },
  {
   "cell_type": "code",
   "execution_count": 10,
   "metadata": {},
   "outputs": [],
   "source": [
    "df = df[::-1]"
   ]
  },
  {
   "cell_type": "code",
   "execution_count": 11,
   "metadata": {},
   "outputs": [],
   "source": [
    "prepared_df = PrepareDF(df)"
   ]
  },
  {
   "cell_type": "code",
   "execution_count": 12,
   "metadata": {},
   "outputs": [],
   "source": [
    "lend = len(prepared_df)"
   ]
  },
  {
   "cell_type": "code",
   "execution_count": 13,
   "metadata": {},
   "outputs": [
    {
     "data": {
      "text/plain": [
       "1000"
      ]
     },
     "execution_count": 13,
     "metadata": {},
     "output_type": "execute_result"
    }
   ],
   "source": [
    "prepared_df['hcc'] = [None]"
   ]
  },
  {
   "cell_type": "code",
   "execution_count": null,
   "metadata": {},
   "outputs": [],
   "source": []
  }
 ],
 "metadata": {
  "kernelspec": {
   "display_name": "Python 3",
   "language": "python",
   "name": "python3"
  },
  "language_info": {
   "codemirror_mode": {
    "name": "ipython",
    "version": 3
   },
   "file_extension": ".py",
   "mimetype": "text/x-python",
   "name": "python",
   "nbconvert_exporter": "python",
   "pygments_lexer": "ipython3",
   "version": "3.8.3"
  }
 },
 "nbformat": 4,
 "nbformat_minor": 4
}
